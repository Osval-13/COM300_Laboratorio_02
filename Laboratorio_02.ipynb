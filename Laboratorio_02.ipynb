{
  "cells": [
    {
      "cell_type": "markdown",
      "metadata": {
        "id": "view-in-github",
        "colab_type": "text"
      },
      "source": [
        "<a href=\"https://colab.research.google.com/github/Osval-13/COM300_Laboratorio_02/blob/main/Laboratorio_02.ipynb\" target=\"_parent\"><img src=\"https://colab.research.google.com/assets/colab-badge.svg\" alt=\"Open In Colab\"/></a>"
      ]
    },
    {
      "cell_type": "markdown",
      "source": [
        "# Laboratorio N°2"
      ],
      "metadata": {
        "id": "tl8zbnfCvIWw"
      }
    },
    {
      "cell_type": "markdown",
      "source": [
        "**Universitario:** Pinto Barrón Osvaldo Dennis.\n",
        "**Carrera:** Ingeniería en Diseño y Animación Digital."
      ],
      "metadata": {
        "id": "-Szxp3-JvUVZ"
      }
    },
    {
      "cell_type": "markdown",
      "source": [
        "**Temática del dataset:** Predicción de la salud física de una persona que fuma."
      ],
      "metadata": {
        "id": "p5dx4hCgvYcU"
      }
    },
    {
      "cell_type": "markdown",
      "source": [
        "**Enlace del dataset:**  [Smoker Status Prediction](https://www.kaggle.com/datasets/gauravduttakiit/smoker-status-prediction/data)"
      ],
      "metadata": {
        "id": "pmvpw8BCv3Bo"
      }
    },
    {
      "cell_type": "markdown",
      "source": [
        "**Formato:** El dataset consta de 22 columnas, de las cuales únicamente se hará uso de 15. El número total de filas es de 16709 datos."
      ],
      "metadata": {
        "id": "RJel_njEx6UE"
      }
    },
    {
      "cell_type": "markdown",
      "source": [
        "Columnas usadas para la realización de los tres métodos:\n",
        "\n",
        "**Variables de entrada**\n",
        "1.   Edad.\n",
        "2.   Altura (cm).\n",
        "3.   Peso (kg).\n",
        "4.   Cintura (cm).\n",
        "5.   Vista (derecha).\n",
        "6.   Vista (izquierda).\n",
        "7.   Sistólica.\n",
        "8.   Relajación.\n",
        "9.  Azúcar en la sangre.\n",
        "10.  Colesterol.\n",
        "11.  Triglicérido.\n",
        "12.  HDL.\n",
        "13.  LDL.\n",
        "14.  Hemoglobina.\n",
        "\n",
        "**Variable de salida**\n",
        "15.   ATS.\n",
        "\n",
        "\n"
      ],
      "metadata": {
        "id": "dNJI9Hxrwev4"
      }
    },
    {
      "cell_type": "markdown",
      "metadata": {
        "id": "tfwOfkjclHQx"
      },
      "source": [
        "# 1 Regresión Lineal Multivariable"
      ]
    },
    {
      "cell_type": "code",
      "execution_count": 1,
      "metadata": {
        "id": "f0WGMMljlHQz"
      },
      "outputs": [],
      "source": [
        "# utilizado para manejos de directorios y rutas\n",
        "import os\n",
        "\n",
        "# Computacion vectorial y cientifica para python\n",
        "import numpy as np\n",
        "\n",
        "# Análisis y manipulación de datos\n",
        "import pandas as pd\n",
        "\n",
        "# Librerias para graficación (trazado de gráficos)\n",
        "from matplotlib import pyplot\n",
        "from mpl_toolkits.mplot3d import Axes3D  # Necesario para graficar superficies 3D\n",
        "\n",
        "# Llama a matplotlib a embeber graficas dentro de los cuadernillos\n",
        "%matplotlib inline"
      ]
    },
    {
      "cell_type": "markdown",
      "metadata": {
        "id": "G6-ykOwelHQ0"
      },
      "source": [
        "### 1.1 Modificamos los datos del dataset\n",
        "\n",
        "Cargamos el dataset original con la librería **pandas** para eliminar los datos de entrada que no usaremos y guardamos los resultados dentro de un nuevo archivo."
      ]
    },
    {
      "cell_type": "code",
      "execution_count": 2,
      "metadata": {
        "id": "6BP5grkxlHQ0",
        "colab": {
          "base_uri": "https://localhost:8080/"
        },
        "outputId": "b5cfebf4-bbb8-4de3-9d7f-60422012f3ef"
      },
      "outputs": [
        {
          "output_type": "stream",
          "name": "stdout",
          "text": [
            "<class 'pandas.core.frame.DataFrame'>\n",
            "RangeIndex: 16708 entries, 0 to 16707\n",
            "Data columns (total 22 columns):\n",
            " #   Column               Non-Null Count  Dtype  \n",
            "---  ------               --------------  -----  \n",
            " 0   age                  16708 non-null  int64  \n",
            " 1   height(cm)           16708 non-null  int64  \n",
            " 2   weight(kg)           16708 non-null  int64  \n",
            " 3   waist(cm)            16708 non-null  float64\n",
            " 4   eyesight(left)       16708 non-null  float64\n",
            " 5   eyesight(right)      16708 non-null  float64\n",
            " 6   hearing(left)        16708 non-null  int64  \n",
            " 7   hearing(right)       16708 non-null  int64  \n",
            " 8   systolic             16708 non-null  int64  \n",
            " 9   relaxation           16708 non-null  int64  \n",
            " 10  fasting blood sugar  16708 non-null  int64  \n",
            " 11  Cholesterol          16708 non-null  int64  \n",
            " 12  triglyceride         16708 non-null  int64  \n",
            " 13  HDL                  16708 non-null  int64  \n",
            " 14  LDL                  16708 non-null  int64  \n",
            " 15  hemoglobin           16708 non-null  float64\n",
            " 16  Urine protein        16708 non-null  int64  \n",
            " 17  serum creatinine     16708 non-null  float64\n",
            " 18  AST                  16708 non-null  int64  \n",
            " 19  ALT                  16708 non-null  int64  \n",
            " 20  Gtp                  16708 non-null  int64  \n",
            " 21  dental caries        16708 non-null  int64  \n",
            "dtypes: float64(5), int64(17)\n",
            "memory usage: 2.8 MB\n",
            "<class 'pandas.core.frame.DataFrame'>\n",
            "RangeIndex: 16708 entries, 0 to 16707\n",
            "Data columns (total 15 columns):\n",
            " #   Column               Non-Null Count  Dtype  \n",
            "---  ------               --------------  -----  \n",
            " 0   age                  16708 non-null  int64  \n",
            " 1   height(cm)           16708 non-null  int64  \n",
            " 2   weight(kg)           16708 non-null  int64  \n",
            " 3   waist(cm)            16708 non-null  float64\n",
            " 4   eyesight(left)       16708 non-null  float64\n",
            " 5   eyesight(right)      16708 non-null  float64\n",
            " 6   systolic             16708 non-null  int64  \n",
            " 7   relaxation           16708 non-null  int64  \n",
            " 8   fasting blood sugar  16708 non-null  int64  \n",
            " 9   Cholesterol          16708 non-null  int64  \n",
            " 10  triglyceride         16708 non-null  int64  \n",
            " 11  HDL                  16708 non-null  int64  \n",
            " 12  LDL                  16708 non-null  int64  \n",
            " 13  hemoglobin           16708 non-null  float64\n",
            " 14  ALT                  16708 non-null  int64  \n",
            "dtypes: float64(4), int64(11)\n",
            "memory usage: 1.9 MB\n"
          ]
        }
      ],
      "source": [
        "# Cargar datos del dataset original\n",
        "data = pd.read_csv('/content/test_dataset.csv', delimiter=',')\n",
        "df = pd.DataFrame(data)\n",
        "data.info()\n",
        "\n",
        "# Eliminamos las columnas que no usaremos\n",
        "sin = df.drop(df.columns[[6, 7, 16, 17, 18, 20, 21]], axis=1)\n",
        "\n",
        "# Verificamos los cambios en el dataset\n",
        "sin.info()\n",
        "\n",
        "# Guardamos el dataset modificado en un nuevo archivo CSV\n",
        "sin.to_csv('test_modificado.csv', index=False)"
      ]
    },
    {
      "cell_type": "markdown",
      "source": [
        "### 1.2 Cargamos los datos del dataset modificado\n",
        "\n",
        "Cargamos los datos del dataset modificado para asignarles los datos de entrada para ***X*** y el dato de salida para ***y***."
      ],
      "metadata": {
        "id": "arpgnD1bzsLu"
      }
    },
    {
      "cell_type": "code",
      "source": [
        "data = pd.read_csv('/content/test_modificado.csv', delimiter=',')\n",
        "df = pd.DataFrame(data)\n",
        "\n",
        "# Asignamos los valores de X y de Y\n",
        "X = data.iloc[:, :14]\n",
        "y = data.iloc[:, 14]\n",
        "\n",
        "# Asignamos una variable para el número total de los datos\n",
        "m = y.size\n",
        "print(m)\n",
        "\n",
        "# Imprimir algunos datos dentro de una tabla\n",
        "display(data)"
      ],
      "metadata": {
        "id": "h1KeygvA6Q0X",
        "colab": {
          "base_uri": "https://localhost:8080/",
          "height": 490
        },
        "outputId": "586e2b59-557a-45dc-8a90-16afa24b595f"
      },
      "execution_count": 55,
      "outputs": [
        {
          "output_type": "stream",
          "name": "stdout",
          "text": [
            "16708\n"
          ]
        },
        {
          "output_type": "display_data",
          "data": {
            "text/plain": [
              "       age  height(cm)  weight(kg)  waist(cm)  eyesight(left)  \\\n",
              "0       40         170          65       75.1             1.0   \n",
              "1       45         170          75       89.0             0.7   \n",
              "2       30         180          90       94.0             1.0   \n",
              "3       60         170          50       73.0             0.5   \n",
              "4       30         170          65       78.0             1.5   \n",
              "...    ...         ...         ...        ...             ...   \n",
              "16703   60         165          65       82.0             0.7   \n",
              "16704   60         155          70       93.0             0.8   \n",
              "16705   40         155          50       67.2             0.9   \n",
              "16706   35         165          70       76.1             1.0   \n",
              "16707   25         180          80       87.0             1.2   \n",
              "\n",
              "       eyesight(right)  systolic  relaxation  fasting blood sugar  \\\n",
              "0                  0.9       120          70                  102   \n",
              "1                  1.2       100          67                   96   \n",
              "2                  0.8       115          72                   88   \n",
              "3                  0.7       118          78                   86   \n",
              "4                  1.0       110          70                   87   \n",
              "...                ...       ...         ...                  ...   \n",
              "16703              1.0       101          68                  140   \n",
              "16704              1.0       134          70                   97   \n",
              "16705              0.8       134          80                   91   \n",
              "16706              1.0       114          68                  109   \n",
              "16707              0.9       110          70                   87   \n",
              "\n",
              "       Cholesterol  triglyceride  HDL  LDL  hemoglobin  ALT  \n",
              "0              225           260   41  132        15.7   26  \n",
              "1              258           345   49  140        15.7   28  \n",
              "2              177           103   53  103        13.5   29  \n",
              "3              187            70   65  108        14.1   28  \n",
              "4              190           210   45  103        14.7   21  \n",
              "...            ...           ...  ...  ...         ...  ...  \n",
              "16703          177           131   41  110        13.5   75  \n",
              "16704          165           259   53   60        13.9   28  \n",
              "16705          206            50   64  131        13.4   10  \n",
              "16706          201            43   74  118        14.3   28  \n",
              "16707          161           107   53   86        15.9   27  \n",
              "\n",
              "[16708 rows x 15 columns]"
            ],
            "text/html": [
              "\n",
              "  <div id=\"df-04e508d1-5f79-4cee-9d90-bb3bbd965ffa\" class=\"colab-df-container\">\n",
              "    <div>\n",
              "<style scoped>\n",
              "    .dataframe tbody tr th:only-of-type {\n",
              "        vertical-align: middle;\n",
              "    }\n",
              "\n",
              "    .dataframe tbody tr th {\n",
              "        vertical-align: top;\n",
              "    }\n",
              "\n",
              "    .dataframe thead th {\n",
              "        text-align: right;\n",
              "    }\n",
              "</style>\n",
              "<table border=\"1\" class=\"dataframe\">\n",
              "  <thead>\n",
              "    <tr style=\"text-align: right;\">\n",
              "      <th></th>\n",
              "      <th>age</th>\n",
              "      <th>height(cm)</th>\n",
              "      <th>weight(kg)</th>\n",
              "      <th>waist(cm)</th>\n",
              "      <th>eyesight(left)</th>\n",
              "      <th>eyesight(right)</th>\n",
              "      <th>systolic</th>\n",
              "      <th>relaxation</th>\n",
              "      <th>fasting blood sugar</th>\n",
              "      <th>Cholesterol</th>\n",
              "      <th>triglyceride</th>\n",
              "      <th>HDL</th>\n",
              "      <th>LDL</th>\n",
              "      <th>hemoglobin</th>\n",
              "      <th>ALT</th>\n",
              "    </tr>\n",
              "  </thead>\n",
              "  <tbody>\n",
              "    <tr>\n",
              "      <th>0</th>\n",
              "      <td>40</td>\n",
              "      <td>170</td>\n",
              "      <td>65</td>\n",
              "      <td>75.1</td>\n",
              "      <td>1.0</td>\n",
              "      <td>0.9</td>\n",
              "      <td>120</td>\n",
              "      <td>70</td>\n",
              "      <td>102</td>\n",
              "      <td>225</td>\n",
              "      <td>260</td>\n",
              "      <td>41</td>\n",
              "      <td>132</td>\n",
              "      <td>15.7</td>\n",
              "      <td>26</td>\n",
              "    </tr>\n",
              "    <tr>\n",
              "      <th>1</th>\n",
              "      <td>45</td>\n",
              "      <td>170</td>\n",
              "      <td>75</td>\n",
              "      <td>89.0</td>\n",
              "      <td>0.7</td>\n",
              "      <td>1.2</td>\n",
              "      <td>100</td>\n",
              "      <td>67</td>\n",
              "      <td>96</td>\n",
              "      <td>258</td>\n",
              "      <td>345</td>\n",
              "      <td>49</td>\n",
              "      <td>140</td>\n",
              "      <td>15.7</td>\n",
              "      <td>28</td>\n",
              "    </tr>\n",
              "    <tr>\n",
              "      <th>2</th>\n",
              "      <td>30</td>\n",
              "      <td>180</td>\n",
              "      <td>90</td>\n",
              "      <td>94.0</td>\n",
              "      <td>1.0</td>\n",
              "      <td>0.8</td>\n",
              "      <td>115</td>\n",
              "      <td>72</td>\n",
              "      <td>88</td>\n",
              "      <td>177</td>\n",
              "      <td>103</td>\n",
              "      <td>53</td>\n",
              "      <td>103</td>\n",
              "      <td>13.5</td>\n",
              "      <td>29</td>\n",
              "    </tr>\n",
              "    <tr>\n",
              "      <th>3</th>\n",
              "      <td>60</td>\n",
              "      <td>170</td>\n",
              "      <td>50</td>\n",
              "      <td>73.0</td>\n",
              "      <td>0.5</td>\n",
              "      <td>0.7</td>\n",
              "      <td>118</td>\n",
              "      <td>78</td>\n",
              "      <td>86</td>\n",
              "      <td>187</td>\n",
              "      <td>70</td>\n",
              "      <td>65</td>\n",
              "      <td>108</td>\n",
              "      <td>14.1</td>\n",
              "      <td>28</td>\n",
              "    </tr>\n",
              "    <tr>\n",
              "      <th>4</th>\n",
              "      <td>30</td>\n",
              "      <td>170</td>\n",
              "      <td>65</td>\n",
              "      <td>78.0</td>\n",
              "      <td>1.5</td>\n",
              "      <td>1.0</td>\n",
              "      <td>110</td>\n",
              "      <td>70</td>\n",
              "      <td>87</td>\n",
              "      <td>190</td>\n",
              "      <td>210</td>\n",
              "      <td>45</td>\n",
              "      <td>103</td>\n",
              "      <td>14.7</td>\n",
              "      <td>21</td>\n",
              "    </tr>\n",
              "    <tr>\n",
              "      <th>...</th>\n",
              "      <td>...</td>\n",
              "      <td>...</td>\n",
              "      <td>...</td>\n",
              "      <td>...</td>\n",
              "      <td>...</td>\n",
              "      <td>...</td>\n",
              "      <td>...</td>\n",
              "      <td>...</td>\n",
              "      <td>...</td>\n",
              "      <td>...</td>\n",
              "      <td>...</td>\n",
              "      <td>...</td>\n",
              "      <td>...</td>\n",
              "      <td>...</td>\n",
              "      <td>...</td>\n",
              "    </tr>\n",
              "    <tr>\n",
              "      <th>16703</th>\n",
              "      <td>60</td>\n",
              "      <td>165</td>\n",
              "      <td>65</td>\n",
              "      <td>82.0</td>\n",
              "      <td>0.7</td>\n",
              "      <td>1.0</td>\n",
              "      <td>101</td>\n",
              "      <td>68</td>\n",
              "      <td>140</td>\n",
              "      <td>177</td>\n",
              "      <td>131</td>\n",
              "      <td>41</td>\n",
              "      <td>110</td>\n",
              "      <td>13.5</td>\n",
              "      <td>75</td>\n",
              "    </tr>\n",
              "    <tr>\n",
              "      <th>16704</th>\n",
              "      <td>60</td>\n",
              "      <td>155</td>\n",
              "      <td>70</td>\n",
              "      <td>93.0</td>\n",
              "      <td>0.8</td>\n",
              "      <td>1.0</td>\n",
              "      <td>134</td>\n",
              "      <td>70</td>\n",
              "      <td>97</td>\n",
              "      <td>165</td>\n",
              "      <td>259</td>\n",
              "      <td>53</td>\n",
              "      <td>60</td>\n",
              "      <td>13.9</td>\n",
              "      <td>28</td>\n",
              "    </tr>\n",
              "    <tr>\n",
              "      <th>16705</th>\n",
              "      <td>40</td>\n",
              "      <td>155</td>\n",
              "      <td>50</td>\n",
              "      <td>67.2</td>\n",
              "      <td>0.9</td>\n",
              "      <td>0.8</td>\n",
              "      <td>134</td>\n",
              "      <td>80</td>\n",
              "      <td>91</td>\n",
              "      <td>206</td>\n",
              "      <td>50</td>\n",
              "      <td>64</td>\n",
              "      <td>131</td>\n",
              "      <td>13.4</td>\n",
              "      <td>10</td>\n",
              "    </tr>\n",
              "    <tr>\n",
              "      <th>16706</th>\n",
              "      <td>35</td>\n",
              "      <td>165</td>\n",
              "      <td>70</td>\n",
              "      <td>76.1</td>\n",
              "      <td>1.0</td>\n",
              "      <td>1.0</td>\n",
              "      <td>114</td>\n",
              "      <td>68</td>\n",
              "      <td>109</td>\n",
              "      <td>201</td>\n",
              "      <td>43</td>\n",
              "      <td>74</td>\n",
              "      <td>118</td>\n",
              "      <td>14.3</td>\n",
              "      <td>28</td>\n",
              "    </tr>\n",
              "    <tr>\n",
              "      <th>16707</th>\n",
              "      <td>25</td>\n",
              "      <td>180</td>\n",
              "      <td>80</td>\n",
              "      <td>87.0</td>\n",
              "      <td>1.2</td>\n",
              "      <td>0.9</td>\n",
              "      <td>110</td>\n",
              "      <td>70</td>\n",
              "      <td>87</td>\n",
              "      <td>161</td>\n",
              "      <td>107</td>\n",
              "      <td>53</td>\n",
              "      <td>86</td>\n",
              "      <td>15.9</td>\n",
              "      <td>27</td>\n",
              "    </tr>\n",
              "  </tbody>\n",
              "</table>\n",
              "<p>16708 rows × 15 columns</p>\n",
              "</div>\n",
              "    <div class=\"colab-df-buttons\">\n",
              "\n",
              "  <div class=\"colab-df-container\">\n",
              "    <button class=\"colab-df-convert\" onclick=\"convertToInteractive('df-04e508d1-5f79-4cee-9d90-bb3bbd965ffa')\"\n",
              "            title=\"Convert this dataframe to an interactive table.\"\n",
              "            style=\"display:none;\">\n",
              "\n",
              "  <svg xmlns=\"http://www.w3.org/2000/svg\" height=\"24px\" viewBox=\"0 -960 960 960\">\n",
              "    <path d=\"M120-120v-720h720v720H120Zm60-500h600v-160H180v160Zm220 220h160v-160H400v160Zm0 220h160v-160H400v160ZM180-400h160v-160H180v160Zm440 0h160v-160H620v160ZM180-180h160v-160H180v160Zm440 0h160v-160H620v160Z\"/>\n",
              "  </svg>\n",
              "    </button>\n",
              "\n",
              "  <style>\n",
              "    .colab-df-container {\n",
              "      display:flex;\n",
              "      gap: 12px;\n",
              "    }\n",
              "\n",
              "    .colab-df-convert {\n",
              "      background-color: #E8F0FE;\n",
              "      border: none;\n",
              "      border-radius: 50%;\n",
              "      cursor: pointer;\n",
              "      display: none;\n",
              "      fill: #1967D2;\n",
              "      height: 32px;\n",
              "      padding: 0 0 0 0;\n",
              "      width: 32px;\n",
              "    }\n",
              "\n",
              "    .colab-df-convert:hover {\n",
              "      background-color: #E2EBFA;\n",
              "      box-shadow: 0px 1px 2px rgba(60, 64, 67, 0.3), 0px 1px 3px 1px rgba(60, 64, 67, 0.15);\n",
              "      fill: #174EA6;\n",
              "    }\n",
              "\n",
              "    .colab-df-buttons div {\n",
              "      margin-bottom: 4px;\n",
              "    }\n",
              "\n",
              "    [theme=dark] .colab-df-convert {\n",
              "      background-color: #3B4455;\n",
              "      fill: #D2E3FC;\n",
              "    }\n",
              "\n",
              "    [theme=dark] .colab-df-convert:hover {\n",
              "      background-color: #434B5C;\n",
              "      box-shadow: 0px 1px 3px 1px rgba(0, 0, 0, 0.15);\n",
              "      filter: drop-shadow(0px 1px 2px rgba(0, 0, 0, 0.3));\n",
              "      fill: #FFFFFF;\n",
              "    }\n",
              "  </style>\n",
              "\n",
              "    <script>\n",
              "      const buttonEl =\n",
              "        document.querySelector('#df-04e508d1-5f79-4cee-9d90-bb3bbd965ffa button.colab-df-convert');\n",
              "      buttonEl.style.display =\n",
              "        google.colab.kernel.accessAllowed ? 'block' : 'none';\n",
              "\n",
              "      async function convertToInteractive(key) {\n",
              "        const element = document.querySelector('#df-04e508d1-5f79-4cee-9d90-bb3bbd965ffa');\n",
              "        const dataTable =\n",
              "          await google.colab.kernel.invokeFunction('convertToInteractive',\n",
              "                                                    [key], {});\n",
              "        if (!dataTable) return;\n",
              "\n",
              "        const docLinkHtml = 'Like what you see? Visit the ' +\n",
              "          '<a target=\"_blank\" href=https://colab.research.google.com/notebooks/data_table.ipynb>data table notebook</a>'\n",
              "          + ' to learn more about interactive tables.';\n",
              "        element.innerHTML = '';\n",
              "        dataTable['output_type'] = 'display_data';\n",
              "        await google.colab.output.renderOutput(dataTable, element);\n",
              "        const docLink = document.createElement('div');\n",
              "        docLink.innerHTML = docLinkHtml;\n",
              "        element.appendChild(docLink);\n",
              "      }\n",
              "    </script>\n",
              "  </div>\n",
              "\n",
              "\n",
              "<div id=\"df-cdf3944d-8c8b-4c03-899b-9d9b5df532e4\">\n",
              "  <button class=\"colab-df-quickchart\" onclick=\"quickchart('df-cdf3944d-8c8b-4c03-899b-9d9b5df532e4')\"\n",
              "            title=\"Suggest charts\"\n",
              "            style=\"display:none;\">\n",
              "\n",
              "<svg xmlns=\"http://www.w3.org/2000/svg\" height=\"24px\"viewBox=\"0 0 24 24\"\n",
              "     width=\"24px\">\n",
              "    <g>\n",
              "        <path d=\"M19 3H5c-1.1 0-2 .9-2 2v14c0 1.1.9 2 2 2h14c1.1 0 2-.9 2-2V5c0-1.1-.9-2-2-2zM9 17H7v-7h2v7zm4 0h-2V7h2v10zm4 0h-2v-4h2v4z\"/>\n",
              "    </g>\n",
              "</svg>\n",
              "  </button>\n",
              "\n",
              "<style>\n",
              "  .colab-df-quickchart {\n",
              "      --bg-color: #E8F0FE;\n",
              "      --fill-color: #1967D2;\n",
              "      --hover-bg-color: #E2EBFA;\n",
              "      --hover-fill-color: #174EA6;\n",
              "      --disabled-fill-color: #AAA;\n",
              "      --disabled-bg-color: #DDD;\n",
              "  }\n",
              "\n",
              "  [theme=dark] .colab-df-quickchart {\n",
              "      --bg-color: #3B4455;\n",
              "      --fill-color: #D2E3FC;\n",
              "      --hover-bg-color: #434B5C;\n",
              "      --hover-fill-color: #FFFFFF;\n",
              "      --disabled-bg-color: #3B4455;\n",
              "      --disabled-fill-color: #666;\n",
              "  }\n",
              "\n",
              "  .colab-df-quickchart {\n",
              "    background-color: var(--bg-color);\n",
              "    border: none;\n",
              "    border-radius: 50%;\n",
              "    cursor: pointer;\n",
              "    display: none;\n",
              "    fill: var(--fill-color);\n",
              "    height: 32px;\n",
              "    padding: 0;\n",
              "    width: 32px;\n",
              "  }\n",
              "\n",
              "  .colab-df-quickchart:hover {\n",
              "    background-color: var(--hover-bg-color);\n",
              "    box-shadow: 0 1px 2px rgba(60, 64, 67, 0.3), 0 1px 3px 1px rgba(60, 64, 67, 0.15);\n",
              "    fill: var(--button-hover-fill-color);\n",
              "  }\n",
              "\n",
              "  .colab-df-quickchart-complete:disabled,\n",
              "  .colab-df-quickchart-complete:disabled:hover {\n",
              "    background-color: var(--disabled-bg-color);\n",
              "    fill: var(--disabled-fill-color);\n",
              "    box-shadow: none;\n",
              "  }\n",
              "\n",
              "  .colab-df-spinner {\n",
              "    border: 2px solid var(--fill-color);\n",
              "    border-color: transparent;\n",
              "    border-bottom-color: var(--fill-color);\n",
              "    animation:\n",
              "      spin 1s steps(1) infinite;\n",
              "  }\n",
              "\n",
              "  @keyframes spin {\n",
              "    0% {\n",
              "      border-color: transparent;\n",
              "      border-bottom-color: var(--fill-color);\n",
              "      border-left-color: var(--fill-color);\n",
              "    }\n",
              "    20% {\n",
              "      border-color: transparent;\n",
              "      border-left-color: var(--fill-color);\n",
              "      border-top-color: var(--fill-color);\n",
              "    }\n",
              "    30% {\n",
              "      border-color: transparent;\n",
              "      border-left-color: var(--fill-color);\n",
              "      border-top-color: var(--fill-color);\n",
              "      border-right-color: var(--fill-color);\n",
              "    }\n",
              "    40% {\n",
              "      border-color: transparent;\n",
              "      border-right-color: var(--fill-color);\n",
              "      border-top-color: var(--fill-color);\n",
              "    }\n",
              "    60% {\n",
              "      border-color: transparent;\n",
              "      border-right-color: var(--fill-color);\n",
              "    }\n",
              "    80% {\n",
              "      border-color: transparent;\n",
              "      border-right-color: var(--fill-color);\n",
              "      border-bottom-color: var(--fill-color);\n",
              "    }\n",
              "    90% {\n",
              "      border-color: transparent;\n",
              "      border-bottom-color: var(--fill-color);\n",
              "    }\n",
              "  }\n",
              "</style>\n",
              "\n",
              "  <script>\n",
              "    async function quickchart(key) {\n",
              "      const quickchartButtonEl =\n",
              "        document.querySelector('#' + key + ' button');\n",
              "      quickchartButtonEl.disabled = true;  // To prevent multiple clicks.\n",
              "      quickchartButtonEl.classList.add('colab-df-spinner');\n",
              "      try {\n",
              "        const charts = await google.colab.kernel.invokeFunction(\n",
              "            'suggestCharts', [key], {});\n",
              "      } catch (error) {\n",
              "        console.error('Error during call to suggestCharts:', error);\n",
              "      }\n",
              "      quickchartButtonEl.classList.remove('colab-df-spinner');\n",
              "      quickchartButtonEl.classList.add('colab-df-quickchart-complete');\n",
              "    }\n",
              "    (() => {\n",
              "      let quickchartButtonEl =\n",
              "        document.querySelector('#df-cdf3944d-8c8b-4c03-899b-9d9b5df532e4 button');\n",
              "      quickchartButtonEl.style.display =\n",
              "        google.colab.kernel.accessAllowed ? 'block' : 'none';\n",
              "    })();\n",
              "  </script>\n",
              "</div>\n",
              "\n",
              "  <div id=\"id_70304d96-7552-4035-9aa7-88ca1e1ea9ca\">\n",
              "    <style>\n",
              "      .colab-df-generate {\n",
              "        background-color: #E8F0FE;\n",
              "        border: none;\n",
              "        border-radius: 50%;\n",
              "        cursor: pointer;\n",
              "        display: none;\n",
              "        fill: #1967D2;\n",
              "        height: 32px;\n",
              "        padding: 0 0 0 0;\n",
              "        width: 32px;\n",
              "      }\n",
              "\n",
              "      .colab-df-generate:hover {\n",
              "        background-color: #E2EBFA;\n",
              "        box-shadow: 0px 1px 2px rgba(60, 64, 67, 0.3), 0px 1px 3px 1px rgba(60, 64, 67, 0.15);\n",
              "        fill: #174EA6;\n",
              "      }\n",
              "\n",
              "      [theme=dark] .colab-df-generate {\n",
              "        background-color: #3B4455;\n",
              "        fill: #D2E3FC;\n",
              "      }\n",
              "\n",
              "      [theme=dark] .colab-df-generate:hover {\n",
              "        background-color: #434B5C;\n",
              "        box-shadow: 0px 1px 3px 1px rgba(0, 0, 0, 0.15);\n",
              "        filter: drop-shadow(0px 1px 2px rgba(0, 0, 0, 0.3));\n",
              "        fill: #FFFFFF;\n",
              "      }\n",
              "    </style>\n",
              "    <button class=\"colab-df-generate\" onclick=\"generateWithVariable('data')\"\n",
              "            title=\"Generate code using this dataframe.\"\n",
              "            style=\"display:none;\">\n",
              "\n",
              "  <svg xmlns=\"http://www.w3.org/2000/svg\" height=\"24px\"viewBox=\"0 0 24 24\"\n",
              "       width=\"24px\">\n",
              "    <path d=\"M7,19H8.4L18.45,9,17,7.55,7,17.6ZM5,21V16.75L18.45,3.32a2,2,0,0,1,2.83,0l1.4,1.43a1.91,1.91,0,0,1,.58,1.4,1.91,1.91,0,0,1-.58,1.4L9.25,21ZM18.45,9,17,7.55Zm-12,3A5.31,5.31,0,0,0,4.9,8.1,5.31,5.31,0,0,0,1,6.5,5.31,5.31,0,0,0,4.9,4.9,5.31,5.31,0,0,0,6.5,1,5.31,5.31,0,0,0,8.1,4.9,5.31,5.31,0,0,0,12,6.5,5.46,5.46,0,0,0,6.5,12Z\"/>\n",
              "  </svg>\n",
              "    </button>\n",
              "    <script>\n",
              "      (() => {\n",
              "      const buttonEl =\n",
              "        document.querySelector('#id_70304d96-7552-4035-9aa7-88ca1e1ea9ca button.colab-df-generate');\n",
              "      buttonEl.style.display =\n",
              "        google.colab.kernel.accessAllowed ? 'block' : 'none';\n",
              "\n",
              "      buttonEl.onclick = () => {\n",
              "        google.colab.notebook.generateWithVariable('data');\n",
              "      }\n",
              "      })();\n",
              "    </script>\n",
              "  </div>\n",
              "\n",
              "    </div>\n",
              "  </div>\n"
            ],
            "application/vnd.google.colaboratory.intrinsic+json": {
              "type": "dataframe",
              "variable_name": "data",
              "summary": "{\n  \"name\": \"data\",\n  \"rows\": 16708,\n  \"fields\": [\n    {\n      \"column\": \"age\",\n      \"properties\": {\n        \"dtype\": \"number\",\n        \"std\": 12,\n        \"min\": 20,\n        \"max\": 85,\n        \"num_unique_values\": 14,\n        \"samples\": [\n          70,\n          80,\n          40\n        ],\n        \"semantic_type\": \"\",\n        \"description\": \"\"\n      }\n    },\n    {\n      \"column\": \"height(cm)\",\n      \"properties\": {\n        \"dtype\": \"number\",\n        \"std\": 9,\n        \"min\": 135,\n        \"max\": 190,\n        \"num_unique_values\": 12,\n        \"samples\": [\n          190,\n          140,\n          170\n        ],\n        \"semantic_type\": \"\",\n        \"description\": \"\"\n      }\n    },\n    {\n      \"column\": \"weight(kg)\",\n      \"properties\": {\n        \"dtype\": \"number\",\n        \"std\": 12,\n        \"min\": 30,\n        \"max\": 125,\n        \"num_unique_values\": 20,\n        \"samples\": [\n          65,\n          120,\n          35\n        ],\n        \"semantic_type\": \"\",\n        \"description\": \"\"\n      }\n    },\n    {\n      \"column\": \"waist(cm)\",\n      \"properties\": {\n        \"dtype\": \"number\",\n        \"std\": 9.15054918093737,\n        \"min\": 53.0,\n        \"max\": 125.8,\n        \"num_unique_values\": 483,\n        \"samples\": [\n          64.6,\n          105.4,\n          104.3\n        ],\n        \"semantic_type\": \"\",\n        \"description\": \"\"\n      }\n    },\n    {\n      \"column\": \"eyesight(left)\",\n      \"properties\": {\n        \"dtype\": \"number\",\n        \"std\": 0.45849967407124004,\n        \"min\": 0.1,\n        \"max\": 9.9,\n        \"num_unique_values\": 18,\n        \"samples\": [\n          1.0,\n          0.7,\n          0.2\n        ],\n        \"semantic_type\": \"\",\n        \"description\": \"\"\n      }\n    },\n    {\n      \"column\": \"eyesight(right)\",\n      \"properties\": {\n        \"dtype\": \"number\",\n        \"std\": 0.4671397315222922,\n        \"min\": 0.1,\n        \"max\": 9.9,\n        \"num_unique_values\": 16,\n        \"samples\": [\n          0.9,\n          1.2,\n          1.5\n        ],\n        \"semantic_type\": \"\",\n        \"description\": \"\"\n      }\n    },\n    {\n      \"column\": \"systolic\",\n      \"properties\": {\n        \"dtype\": \"number\",\n        \"std\": 13,\n        \"min\": 79,\n        \"max\": 240,\n        \"num_unique_values\": 114,\n        \"samples\": [\n          86,\n          110,\n          97\n        ],\n        \"semantic_type\": \"\",\n        \"description\": \"\"\n      }\n    },\n    {\n      \"column\": \"relaxation\",\n      \"properties\": {\n        \"dtype\": \"number\",\n        \"std\": 9,\n        \"min\": 40,\n        \"max\": 140,\n        \"num_unique_values\": 81,\n        \"samples\": [\n          76,\n          70,\n          77\n        ],\n        \"semantic_type\": \"\",\n        \"description\": \"\"\n      }\n    },\n    {\n      \"column\": \"fasting blood sugar\",\n      \"properties\": {\n        \"dtype\": \"number\",\n        \"std\": 21,\n        \"min\": 55,\n        \"max\": 505,\n        \"num_unique_values\": 221,\n        \"samples\": [\n          273,\n          69,\n          160\n        ],\n        \"semantic_type\": \"\",\n        \"description\": \"\"\n      }\n    },\n    {\n      \"column\": \"Cholesterol\",\n      \"properties\": {\n        \"dtype\": \"number\",\n        \"std\": 36,\n        \"min\": 72,\n        \"max\": 371,\n        \"num_unique_values\": 251,\n        \"samples\": [\n          138,\n          199,\n          305\n        ],\n        \"semantic_type\": \"\",\n        \"description\": \"\"\n      }\n    },\n    {\n      \"column\": \"triglyceride\",\n      \"properties\": {\n        \"dtype\": \"number\",\n        \"std\": 71,\n        \"min\": 16,\n        \"max\": 405,\n        \"num_unique_values\": 383,\n        \"samples\": [\n          241,\n          37,\n          266\n        ],\n        \"semantic_type\": \"\",\n        \"description\": \"\"\n      }\n    },\n    {\n      \"column\": \"HDL\",\n      \"properties\": {\n        \"dtype\": \"number\",\n        \"std\": 15,\n        \"min\": 4,\n        \"max\": 618,\n        \"num_unique_values\": 113,\n        \"samples\": [\n          109,\n          45,\n          60\n        ],\n        \"semantic_type\": \"\",\n        \"description\": \"\"\n      }\n    },\n    {\n      \"column\": \"LDL\",\n      \"properties\": {\n        \"dtype\": \"number\",\n        \"std\": 35,\n        \"min\": 1,\n        \"max\": 1660,\n        \"num_unique_values\": 235,\n        \"samples\": [\n          115,\n          1010,\n          237\n        ],\n        \"semantic_type\": \"\",\n        \"description\": \"\"\n      }\n    },\n    {\n      \"column\": \"hemoglobin\",\n      \"properties\": {\n        \"dtype\": \"number\",\n        \"std\": 1.5597935129106526,\n        \"min\": 4.9,\n        \"max\": 20.9,\n        \"num_unique_values\": 130,\n        \"samples\": [\n          15.5,\n          7.0,\n          14.5\n        ],\n        \"semantic_type\": \"\",\n        \"description\": \"\"\n      }\n    },\n    {\n      \"column\": \"ALT\",\n      \"properties\": {\n        \"dtype\": \"number\",\n        \"std\": 30,\n        \"min\": 1,\n        \"max\": 2062,\n        \"num_unique_values\": 195,\n        \"samples\": [\n          187,\n          12,\n          119\n        ],\n        \"semantic_type\": \"\",\n        \"description\": \"\"\n      }\n    }\n  ]\n}"
            }
          },
          "metadata": {}
        }
      ]
    },
    {
      "cell_type": "markdown",
      "metadata": {
        "id": "7iU_3mwZlHQ1"
      },
      "source": [
        "### 1.3 Normalizamos las características\n",
        "\n",
        "Realizamos una copia para almacenar los datos y así guardarlos dentro de un vector que contendrá la media de cada característica."
      ]
    },
    {
      "cell_type": "code",
      "execution_count": 56,
      "metadata": {
        "id": "7xFD8H3WlHQ1"
      },
      "outputs": [],
      "source": [
        "def  featureNormalize(X): #Normalización de todos los datos\n",
        "\n",
        "    X_norm = X.copy()\n",
        "    mu = np.zeros(X.shape[1])\n",
        "    sigma = np.zeros(X.shape[1])\n",
        "\n",
        "    mu = np.mean(X, axis = 0)\n",
        "    sigma = np.std(X, axis = 0)\n",
        "    X_norm = (X - mu) / sigma\n",
        "\n",
        "    return X_norm, mu, sigma"
      ]
    },
    {
      "cell_type": "markdown",
      "source": [
        "Llamamos a la función para normalizar los datos."
      ],
      "metadata": {
        "id": "QrXdb8mtOM2x"
      }
    },
    {
      "cell_type": "code",
      "execution_count": 57,
      "metadata": {
        "id": "ipL_QsTZlHQ2",
        "colab": {
          "base_uri": "https://localhost:8080/"
        },
        "outputId": "a7c72728-6a0b-47bd-fdb3-0020e4caa2b8"
      },
      "outputs": [
        {
          "output_type": "stream",
          "name": "stdout",
          "text": [
            "Media calculada: age                     44.312006\n",
            "height(cm)             164.555602\n",
            "weight(kg)              65.692782\n",
            "waist(cm)               82.009792\n",
            "eyesight(left)           1.007182\n",
            "eyesight(right)          1.004351\n",
            "systolic               121.537587\n",
            "relaxation              76.029148\n",
            "fasting blood sugar     99.242459\n",
            "Cholesterol            196.943261\n",
            "triglyceride           126.470254\n",
            "HDL                     57.283816\n",
            "LDL                    114.691525\n",
            "hemoglobin              14.618692\n",
            "dtype: float64\n",
            "Desviación estandar calculada: age                    12.088737\n",
            "height(cm)              9.210436\n",
            "weight(kg)             12.638877\n",
            "waist(cm)               9.150275\n",
            "eyesight(left)          0.458486\n",
            "eyesight(right)         0.467126\n",
            "systolic               13.751347\n",
            "relaxation              9.726998\n",
            "fasting blood sugar    21.147759\n",
            "Cholesterol            36.166900\n",
            "triglyceride           71.256909\n",
            "HDL                    15.017806\n",
            "LDL                    35.947898\n",
            "hemoglobin              1.559747\n",
            "dtype: float64\n",
            "            age  height(cm)  weight(kg)  waist(cm)  eyesight(left)  \\\n",
            "0     -0.356696    0.591112   -0.054814  -0.755146       -0.015665   \n",
            "1      0.056912    0.591112    0.736396   0.763934       -0.669993   \n",
            "2     -1.183912    1.676837    1.923210   1.310366       -0.015665   \n",
            "3      1.297736    0.591112   -1.241628  -0.984647       -1.106211   \n",
            "4     -1.183912    0.591112   -0.054814  -0.438215        1.074881   \n",
            "...         ...         ...         ...        ...             ...   \n",
            "16703  1.297736    0.048249   -0.054814  -0.001070       -0.669993   \n",
            "16704  1.297736   -1.037476    0.340791   1.201080       -0.451883   \n",
            "16705 -0.356696   -1.037476   -1.241628  -1.618508       -0.233774   \n",
            "16706 -0.770304    0.048249    0.340791  -0.645859       -0.015665   \n",
            "16707 -1.597521    1.676837    1.132001   0.545362        0.420553   \n",
            "\n",
            "       eyesight(right)  systolic  relaxation  fasting blood sugar  \\\n",
            "0            -0.223390 -0.111814   -0.619836             0.130394   \n",
            "1             0.418835 -1.566216   -0.928256            -0.153324   \n",
            "2            -0.437465 -0.475414   -0.414223            -0.531615   \n",
            "3            -0.651540 -0.257254    0.202617            -0.626187   \n",
            "4            -0.009315 -0.839015   -0.619836            -0.578901   \n",
            "...                ...       ...         ...                  ...   \n",
            "16703        -0.009315 -1.493496   -0.825450             1.927275   \n",
            "16704        -0.009315  0.906269   -0.619836            -0.106038   \n",
            "16705        -0.437465  0.906269    0.408230            -0.389756   \n",
            "16706        -0.009315 -0.548134   -0.825450             0.461398   \n",
            "16707        -0.223390 -0.839015   -0.619836            -0.578901   \n",
            "\n",
            "       Cholesterol  triglyceride       HDL       LDL  hemoglobin  \n",
            "0         0.775757      1.873920 -1.084301  0.481488    0.693259  \n",
            "1         1.688194      3.066787 -0.551600  0.704032    0.693259  \n",
            "2        -0.551423     -0.329375 -0.285249 -0.325235   -0.717226  \n",
            "3        -0.274927     -0.792488  0.513802 -0.186145   -0.332549  \n",
            "4        -0.191978      1.172234 -0.817950 -0.325235    0.052129  \n",
            "...            ...           ...       ...       ...         ...  \n",
            "16703    -0.551423      0.063569 -1.084301 -0.130509   -0.717226  \n",
            "16704    -0.883218      1.859886 -0.285249 -1.521411   -0.460775  \n",
            "16705     0.250415     -1.073163  0.447215  0.453670   -0.781339  \n",
            "16706     0.112167     -1.171399  1.113091  0.092035   -0.204323  \n",
            "16707    -0.993816     -0.273240 -0.285249 -0.798142    0.821485  \n",
            "\n",
            "[16708 rows x 14 columns]\n"
          ]
        }
      ],
      "source": [
        "X_norm, mu, sigma = featureNormalize(X)\n",
        "\n",
        "# Imprimimos los resultados\n",
        "print('Media calculada:', mu)\n",
        "print('Desviación estandar calculada:', sigma)\n",
        "print(X_norm)"
      ]
    },
    {
      "cell_type": "markdown",
      "source": [
        "### 1.4 Descenso por el gradiente\n",
        "\n",
        "Añadimos una columna de valores de 1 e imprimos los datos."
      ],
      "metadata": {
        "id": "gUcDpRdTPY65"
      }
    },
    {
      "cell_type": "code",
      "execution_count": 58,
      "metadata": {
        "id": "nNaGVxgolHQ2",
        "colab": {
          "base_uri": "https://localhost:8080/"
        },
        "outputId": "24e0e615-ebb6-4478-cd0a-2017ae1f2f1b"
      },
      "outputs": [
        {
          "output_type": "stream",
          "name": "stdout",
          "text": [
            "[[ 1.         -0.35669616  0.59111183 ... -1.08430064  0.48148782\n",
            "   0.69325889]\n",
            " [ 1.          0.05691196  0.59111183 ... -0.55159964  0.70403212\n",
            "   0.69325889]\n",
            " [ 1.         -1.18391242  1.67683673 ... -0.28524914 -0.32523529\n",
            "  -0.71722642]\n",
            " ...\n",
            " [ 1.         -0.35669616 -1.03747551 ...  0.44721473  0.45366978\n",
            "  -0.78133939]\n",
            " [ 1.         -0.77030429  0.04824939 ...  1.11309098  0.09203528\n",
            "  -0.20432267]\n",
            " [ 1.         -1.59752055  1.67683673 ... -0.28524914 -0.79814194\n",
            "   0.82148483]]\n"
          ]
        }
      ],
      "source": [
        "X = np.concatenate([np.ones((m, 1)), X_norm], axis=1)\n",
        "print(X)"
      ]
    },
    {
      "cell_type": "markdown",
      "metadata": {
        "id": "xzLiIE6NlHQ3"
      },
      "source": [
        "#### 1.4.1 Calculamos el costo (J)"
      ]
    },
    {
      "cell_type": "code",
      "execution_count": 63,
      "metadata": {
        "id": "EQCMN7KqlHQ3"
      },
      "outputs": [],
      "source": [
        "def computeCostMulti(X, y, theta):\n",
        "    # Inicializa algunos valores utiles\n",
        "    m = y.shape[0] # numero de ejemplos de entrenamiento\n",
        "\n",
        "    J = 0\n",
        "\n",
        "    h = np.dot(X, theta)\n",
        "\n",
        "    J = (1/(2 * m)) * np.sum(np.square(np.dot(X, theta) - y))\n",
        "\n",
        "    return J\n"
      ]
    },
    {
      "cell_type": "code",
      "execution_count": 64,
      "metadata": {
        "id": "Vdy_aQUklHQ4"
      },
      "outputs": [],
      "source": [
        "def gradientDescentMulti(X, y, theta, alpha, num_iters):\n",
        "\n",
        "    # Inicializa algunos valores\n",
        "    m = y.shape[0] # numero de ejemplos de entrenamiento\n",
        "\n",
        "    # realiza una copia de theta, el cual será acutalizada por el descenso por el gradiente\n",
        "\n",
        "    theta = theta.copy()\n",
        "\n",
        "    J_history = []\n",
        "\n",
        "    for i in range(num_iters):\n",
        "        theta = theta - (alpha / m) * (np.dot(X, theta) - y).dot(X)\n",
        "        J_history.append(computeCostMulti(X, y, theta))\n",
        "\n",
        "    return theta, J_history"
      ]
    },
    {
      "cell_type": "markdown",
      "metadata": {
        "id": "a8b_GwZslHQ4"
      },
      "source": [
        "#### 1.4.2 Seleccionando coheficientes de aprendizaje\n",
        "\n",
        "Declaramos un valor para **alpha** y un **número de iteraciones** para así calcular las thetas."
      ]
    },
    {
      "cell_type": "code",
      "execution_count": 65,
      "metadata": {
        "id": "sId0DiH9lHQ4",
        "colab": {
          "base_uri": "https://localhost:8080/"
        },
        "outputId": "e8172900-482d-4e53-d8b2-874ddc7dfee8"
      },
      "outputs": [
        {
          "output_type": "stream",
          "name": "stdout",
          "text": [
            "Theta calculado por el descenso por gradiente:\n",
            "Theta 1: 26.781202\n",
            "Theta 2: -1.124603\n",
            "Theta 3: -2.995793\n",
            "Theta 4: 3.378448\n",
            "Theta 5: 3.469512\n",
            "Theta 6: -0.120126\n",
            "Theta 7: -0.040505\n",
            "Theta 8: -0.397374\n",
            "Theta 9: 0.635655\n",
            "Theta 10: 0.905880\n",
            "Theta 11: 0.551271\n",
            "Theta 12: 1.784888\n",
            "Theta 13: -0.204278\n",
            "Theta 14: -0.161867\n",
            "Theta 15: 3.629165\n"
          ]
        }
      ],
      "source": [
        "# Elegir algun valor para alpha\n",
        "alpha = 0.004\n",
        "num_iters = 3000\n",
        "\n",
        "# inicializa theta y ejecuta el descenso por el gradiente\n",
        "theta = np.zeros(15)\n",
        "theta, J_history = gradientDescentMulti(X, y, theta, alpha, num_iters)\n",
        "\n",
        "# Muestra los resultados del descenso por el gradiente\n",
        "print('Theta calculado por el descenso por gradiente:')\n",
        "for i, val in enumerate(theta, 1):\n",
        "    print(f'Theta {i}: {val:.6f}')"
      ]
    },
    {
      "cell_type": "markdown",
      "source": [
        "#### 1.4.3 Gráfica\n",
        "Graficamos la convergencia del costo."
      ],
      "metadata": {
        "id": "sLXjUGsbQe6e"
      }
    },
    {
      "cell_type": "code",
      "source": [
        "pyplot.plot(np.arange(len(J_history)), J_history, lw=2)\n",
        "pyplot.xlabel('Numero de iteraciones')\n",
        "pyplot.ylabel('Costo J')"
      ],
      "metadata": {
        "id": "nDu7TjCkQmzS",
        "colab": {
          "base_uri": "https://localhost:8080/",
          "height": 466
        },
        "outputId": "c2b271c2-5e9b-4b9f-d322-0cf501a2cc34"
      },
      "execution_count": 66,
      "outputs": [
        {
          "output_type": "execute_result",
          "data": {
            "text/plain": [
              "Text(0, 0.5, 'Costo J')"
            ]
          },
          "metadata": {},
          "execution_count": 66
        },
        {
          "output_type": "display_data",
          "data": {
            "text/plain": [
              "<Figure size 640x480 with 1 Axes>"
            ],
            "image/png": "[encoded data removed]"
          },
          "metadata": {}
        }
      ]
    },
    {
      "cell_type": "markdown",
      "source": [
        "### 1.5 Predicciones\n",
        "Hacemos uso de un diccionario para definir valores mínimos y máximos de las características. De esta forma se obtendrán valores controlados."
      ],
      "metadata": {
        "id": "DoIPfTHlQyjy"
      }
    },
    {
      "cell_type": "code",
      "source": [
        "rango_columnas = {\n",
        "    'XT': (1,1),\n",
        "    'Edad': (30,70),\n",
        "    'Altura': (145, 179),\n",
        "    'Peso': (60, 87),\n",
        "    'Cintura': (50, 100),\n",
        "    'Vista Derecha': (0.1, 4),\n",
        "    'Vista Izquierda': (0.1, 3),\n",
        "    'Sistólica': (95, 151),\n",
        "    'Relajación': (60, 95),\n",
        "    'Azúcar en la sangre': (77.5, 122.5),\n",
        "    'Colesterol': (131.8, 240),\n",
        "    'Triglicérido': (90, 275),\n",
        "    'HDL': (35, 100),\n",
        "    'LDL': (60, 166),\n",
        "    'Hemoglobina': (12.5, 16.9)\n",
        "}"
      ],
      "metadata": {
        "id": "TWYQia_XFfw2"
      },
      "execution_count": 17,
      "outputs": []
    },
    {
      "cell_type": "markdown",
      "source": [
        "Creamos una lista para almacenar cada uno de los valores y realizamos el cálculo de las 100 predicciones."
      ],
      "metadata": {
        "id": "WdGQ5VObRcGJ"
      }
    },
    {
      "cell_type": "code",
      "execution_count": 22,
      "metadata": {
        "id": "y0aZhWEqlHQ4",
        "colab": {
          "base_uri": "https://localhost:8080/"
        },
        "outputId": "c65108d1-b112-4227-9d05-a18abf88d9e5"
      },
      "outputs": [
        {
          "output_type": "stream",
          "name": "stdout",
          "text": [
            "Predicción 1: El valor estimado de ATS es 639\n",
            "Predicción 2: El valor estimado de ATS es 345\n",
            "Predicción 3: El valor estimado de ATS es 631\n",
            "Predicción 4: El valor estimado de ATS es 456\n",
            "Predicción 5: El valor estimado de ATS es 617\n",
            "Predicción 6: El valor estimado de ATS es 586\n",
            "Predicción 7: El valor estimado de ATS es 609\n",
            "Predicción 8: El valor estimado de ATS es 664\n",
            "Predicción 9: El valor estimado de ATS es 436\n",
            "Predicción 10: El valor estimado de ATS es 541\n",
            "Predicción 11: El valor estimado de ATS es 644\n",
            "Predicción 12: El valor estimado de ATS es 520\n",
            "Predicción 13: El valor estimado de ATS es 465\n",
            "Predicción 14: El valor estimado de ATS es 567\n",
            "Predicción 15: El valor estimado de ATS es 400\n",
            "Predicción 16: El valor estimado de ATS es 397\n",
            "Predicción 17: El valor estimado de ATS es 659\n",
            "Predicción 18: El valor estimado de ATS es 602\n",
            "Predicción 19: El valor estimado de ATS es 617\n",
            "Predicción 20: El valor estimado de ATS es 586\n",
            "Predicción 21: El valor estimado de ATS es 442\n",
            "Predicción 22: El valor estimado de ATS es 701\n",
            "Predicción 23: El valor estimado de ATS es 540\n",
            "Predicción 24: El valor estimado de ATS es 759\n",
            "Predicción 25: El valor estimado de ATS es 718\n",
            "Predicción 26: El valor estimado de ATS es 486\n",
            "Predicción 27: El valor estimado de ATS es 624\n",
            "Predicción 28: El valor estimado de ATS es 481\n",
            "Predicción 29: El valor estimado de ATS es 658\n",
            "Predicción 30: El valor estimado de ATS es 733\n",
            "Predicción 31: El valor estimado de ATS es 504\n",
            "Predicción 32: El valor estimado de ATS es 637\n",
            "Predicción 33: El valor estimado de ATS es 465\n",
            "Predicción 34: El valor estimado de ATS es 406\n",
            "Predicción 35: El valor estimado de ATS es 507\n",
            "Predicción 36: El valor estimado de ATS es 762\n",
            "Predicción 37: El valor estimado de ATS es 715\n",
            "Predicción 38: El valor estimado de ATS es 588\n",
            "Predicción 39: El valor estimado de ATS es 721\n",
            "Predicción 40: El valor estimado de ATS es 419\n",
            "Predicción 41: El valor estimado de ATS es 633\n",
            "Predicción 42: El valor estimado de ATS es 751\n",
            "Predicción 43: El valor estimado de ATS es 624\n",
            "Predicción 44: El valor estimado de ATS es 473\n",
            "Predicción 45: El valor estimado de ATS es 611\n",
            "Predicción 46: El valor estimado de ATS es 517\n",
            "Predicción 47: El valor estimado de ATS es 572\n",
            "Predicción 48: El valor estimado de ATS es 609\n",
            "Predicción 49: El valor estimado de ATS es 520\n",
            "Predicción 50: El valor estimado de ATS es 694\n",
            "Predicción 51: El valor estimado de ATS es 721\n",
            "Predicción 52: El valor estimado de ATS es 487\n",
            "Predicción 53: El valor estimado de ATS es 425\n",
            "Predicción 54: El valor estimado de ATS es 496\n",
            "Predicción 55: El valor estimado de ATS es 637\n",
            "Predicción 56: El valor estimado de ATS es 232\n",
            "Predicción 57: El valor estimado de ATS es 705\n",
            "Predicción 58: El valor estimado de ATS es 467\n",
            "Predicción 59: El valor estimado de ATS es 603\n",
            "Predicción 60: El valor estimado de ATS es 473\n",
            "Predicción 61: El valor estimado de ATS es 555\n",
            "Predicción 62: El valor estimado de ATS es 629\n",
            "Predicción 63: El valor estimado de ATS es 437\n",
            "Predicción 64: El valor estimado de ATS es 577\n",
            "Predicción 65: El valor estimado de ATS es 352\n",
            "Predicción 66: El valor estimado de ATS es 470\n",
            "Predicción 67: El valor estimado de ATS es 555\n",
            "Predicción 68: El valor estimado de ATS es 453\n",
            "Predicción 69: El valor estimado de ATS es 617\n",
            "Predicción 70: El valor estimado de ATS es 406\n",
            "Predicción 71: El valor estimado de ATS es 302\n",
            "Predicción 72: El valor estimado de ATS es 570\n",
            "Predicción 73: El valor estimado de ATS es 520\n",
            "Predicción 74: El valor estimado de ATS es 419\n",
            "Predicción 75: El valor estimado de ATS es 490\n",
            "Predicción 76: El valor estimado de ATS es 625\n",
            "Predicción 77: El valor estimado de ATS es 499\n",
            "Predicción 78: El valor estimado de ATS es 459\n",
            "Predicción 79: El valor estimado de ATS es 518\n",
            "Predicción 80: El valor estimado de ATS es 408\n",
            "Predicción 81: El valor estimado de ATS es 680\n",
            "Predicción 82: El valor estimado de ATS es 559\n",
            "Predicción 83: El valor estimado de ATS es 533\n",
            "Predicción 84: El valor estimado de ATS es 536\n",
            "Predicción 85: El valor estimado de ATS es 514\n",
            "Predicción 86: El valor estimado de ATS es 706\n",
            "Predicción 87: El valor estimado de ATS es 600\n",
            "Predicción 88: El valor estimado de ATS es 424\n",
            "Predicción 89: El valor estimado de ATS es 382\n",
            "Predicción 90: El valor estimado de ATS es 277\n",
            "Predicción 91: El valor estimado de ATS es 493\n",
            "Predicción 92: El valor estimado de ATS es 501\n",
            "Predicción 93: El valor estimado de ATS es 453\n",
            "Predicción 94: El valor estimado de ATS es 467\n",
            "Predicción 95: El valor estimado de ATS es 708\n",
            "Predicción 96: El valor estimado de ATS es 469\n",
            "Predicción 97: El valor estimado de ATS es 653\n",
            "Predicción 98: El valor estimado de ATS es 483\n",
            "Predicción 99: El valor estimado de ATS es 543\n",
            "Predicción 100: El valor estimado de ATS es 506\n"
          ]
        }
      ],
      "source": [
        "# Crear una lista para almacenar las predicciones\n",
        "predicciones = []\n",
        "\n",
        "Ciclos = 100\n",
        "\n",
        "# Generar 100 predicciones\n",
        "for i in range(Ciclos):\n",
        "    # Crear un array para almacenar los valores aleatorios de cada columna\n",
        "    X_nuevo = []\n",
        "\n",
        "    # Tomamos en cuenta que la primera columna siempre tendrá un valor de 1\n",
        "    X_nuevo.append(1)\n",
        "\n",
        "    # Generar valores aleatorios entre los rangos definidos para las demás columnas\n",
        "    for col in rango_columnas:\n",
        "      if col != 'XT':\n",
        "        min_val = rango_columnas[col][0]\n",
        "        max_val = rango_columnas[col][1]\n",
        "        valor_random = np.random.uniform(min_val, max_val)\n",
        "        X_nuevo.append(valor_random)\n",
        "\n",
        "    # Convertir la lista a un array\n",
        "    X_nuevo = np.array(X_nuevo)\n",
        "\n",
        "\n",
        "    # Realizar la predicción\n",
        "    ATS = int(np.dot(X_nuevo , theta))\n",
        "\n",
        "    # Almacenar la predicción\n",
        "    predicciones.append(ATS)\n",
        "\n",
        "# Mostrar las 100 predicciones\n",
        "for i, pred in enumerate(predicciones, 1):\n",
        "    print(f\"Predicción {i}: El valor estimado de ATS es {pred}\")"
      ]
    },
    {
      "cell_type": "markdown",
      "source": [
        "# 2 Regresión Polinómica\n"
      ],
      "metadata": {
        "id": "7AF4i6IjsX70"
      }
    },
    {
      "cell_type": "markdown",
      "source": [
        "### 2.1 Cargamos los datos del dataset modificado\n",
        "\n",
        "Cargamos los datos del dataset modificado para asignarles los datos de entrada para ***X_pol*** y el dato de salida para ***y_pol***. Además, cambiamos el nombre de las variables para evitar fallos."
      ],
      "metadata": {
        "id": "aPtBeZ4asyU_"
      }
    },
    {
      "cell_type": "code",
      "source": [
        "data = pd.read_csv('/content/test_modificado.csv', delimiter=',')\n",
        "df = pd.DataFrame(data)\n",
        "\n",
        "# Asignamos los valores de X y de Y\n",
        "X_pol = data.iloc[:, :14]\n",
        "y_poli = data.iloc[:, 14]\n",
        "\n",
        "# Asignamos una variable para el número total de los datos\n",
        "m_poli = y.size\n",
        "print(m)"
      ],
      "metadata": {
        "colab": {
          "base_uri": "https://localhost:8080/"
        },
        "id": "-_uya0QptgKo",
        "outputId": "ce753427-0888-4497-c252-211bf80e5c37"
      },
      "execution_count": 24,
      "outputs": [
        {
          "output_type": "stream",
          "name": "stdout",
          "text": [
            "16708\n"
          ]
        }
      ]
    },
    {
      "cell_type": "code",
      "source": [
        "X_pol = np.concatenate([X_pol, X_pol * X_pol], axis=1)"
      ],
      "metadata": {
        "id": "3pbYhSgc7Lqc"
      },
      "execution_count": 25,
      "outputs": []
    },
    {
      "cell_type": "markdown",
      "source": [
        "### 2.2 Normalizamos las características\n",
        "\n",
        "Realizamos una copia para almacenar los datos y así guardarlos dentro de un vector que contendrá la media de cada característica."
      ],
      "metadata": {
        "id": "ATE6M9Bg7zNQ"
      }
    },
    {
      "cell_type": "code",
      "source": [
        "def  featureNormalize(X):\n",
        "    X_norm_pol = X_pol.copy()\n",
        "    mu = np.zeros(X_pol.shape[1])\n",
        "    sigma = np.zeros(X_pol.shape[1])\n",
        "\n",
        "    mu = np.mean(X_pol, axis = 0)\n",
        "    sigma = np.std(X_pol, axis = 0)\n",
        "    X_norm_pol = (X_pol - mu) / sigma\n",
        "\n",
        "    return X_norm_pol, mu, sigma"
      ],
      "metadata": {
        "id": "LZqAjGW376rP"
      },
      "execution_count": 26,
      "outputs": []
    },
    {
      "cell_type": "markdown",
      "source": [
        "Llamamos a la función de normalizar."
      ],
      "metadata": {
        "id": "pRoK4pOh8Iw6"
      }
    },
    {
      "cell_type": "code",
      "source": [
        "X_norm_pol, mu, sigma = featureNormalize(X)\n",
        "\n",
        "# Imprimimos los resultados\n",
        "print('Media calculada:', mu)\n",
        "print('Desviación estandar calculada:', sigma)\n",
        "print(X_norm_pol)"
      ],
      "metadata": {
        "colab": {
          "base_uri": "https://localhost:8080/"
        },
        "id": "5h6UYgPT79CB",
        "outputId": "bbf1a2ef-e3c8-419c-95d7-b025da6762dc"
      },
      "execution_count": 27,
      "outputs": [
        {
          "output_type": "stream",
          "name": "stdout",
          "text": [
            "Media calculada: [4.43120062e+01 1.64555602e+02 6.56927819e+01 8.20097917e+01\n",
            " 1.00718219e+00 1.00435121e+00 1.21537587e+02 7.60291477e+01\n",
            " 9.92424587e+01 1.96943261e+02 1.26470254e+02 5.72838161e+01\n",
            " 1.14691525e+02 1.46186916e+01 2.10969147e+03 2.71633783e+04\n",
            " 4.47528280e+03 6.80933348e+03 1.22462533e+00 1.22692782e+00\n",
            " 1.49604846e+04 5.87504579e+03 1.02962933e+04 4.00946926e+04\n",
            " 2.10722721e+04 3.50697007e+03 1.44463973e+04 2.16138956e+02]\n",
            "Desviación estandar calculada: [1.20887373e+01 9.21043631e+00 1.26388767e+01 9.15027534e+00\n",
            " 4.58485953e-01 4.67125752e-01 1.37513475e+01 9.72699771e+00\n",
            " 2.11477593e+01 3.61669001e+01 7.12569088e+01 1.50178055e+01\n",
            " 3.59478982e+01 1.55974683e+00 1.12373533e+03 3.02123956e+03\n",
            " 1.75582085e+03 1.52165260e+03 3.57547363e+00 3.72838706e+00\n",
            " 3.45251064e+03 1.52035706e+03 6.73286564e+03 1.48153163e+04\n",
            " 2.53490764e+04 3.45893165e+03 2.39941949e+04 4.42612063e+01]\n",
            "[[-0.35669616  0.59111183 -0.05481357 ... -0.52790002  0.1240968\n",
            "   0.68572565]\n",
            " [ 0.05691196  0.59111183  0.73639599 ... -0.31974326  0.2147854\n",
            "   0.68572565]\n",
            " [-1.18391242  1.67683673  1.92321032 ... -0.20178776 -0.15993024\n",
            "  -0.7656582 ]\n",
            " ...\n",
            " [-0.35669616 -1.03747551 -1.2416279  ...  0.17029244  0.11313581\n",
            "  -0.82643377]\n",
            " [-0.77030429  0.04824939  0.34079121 ...  0.56925957 -0.02177182\n",
            "  -0.26318658]\n",
            " [-1.59752055  1.67683673  1.13200076 ... -0.20178776 -0.29383763\n",
            "   0.82851435]]\n"
          ]
        }
      ]
    },
    {
      "cell_type": "markdown",
      "source": [
        "### 2.3 Descenso por el gradiente\n",
        "\n",
        "Añadimos una columna de valores de 1."
      ],
      "metadata": {
        "id": "yq-JiqH38W3F"
      }
    },
    {
      "cell_type": "code",
      "source": [
        "X_pol = np.concatenate([np.ones((m, 1)), X_norm_pol], axis=1)"
      ],
      "metadata": {
        "id": "QMyOCkAz8PFl"
      },
      "execution_count": 28,
      "outputs": []
    },
    {
      "cell_type": "markdown",
      "source": [
        "#### 2.3.1 Calculamos el costo (J)"
      ],
      "metadata": {
        "id": "iHs8GtFn9GPB"
      }
    },
    {
      "cell_type": "code",
      "source": [
        "def computeCostMulti(X, y, theta):\n",
        "    # Inicializa algunos valores utiles\n",
        "    m_pol = y.shape[0] # numero de ejemplos de entrenamiento\n",
        "\n",
        "    J = 0\n",
        "\n",
        "    h = np.dot(X_pol, theta)\n",
        "\n",
        "    J = (1/(2 * m)) * np.sum(np.square(np.dot(X_pol, theta) - y))\n",
        "\n",
        "    return J"
      ],
      "metadata": {
        "id": "i1KRFZ4k89vt"
      },
      "execution_count": 29,
      "outputs": []
    },
    {
      "cell_type": "code",
      "source": [
        "def gradientDescentMulti(X, y, theta, alpha, num_iters):\n",
        "\n",
        "    # Inicializa algunos valores\n",
        "    m_pol = y.shape[0]\n",
        "\n",
        "    # realiza una copia de theta, el cual será acutalizada por el descenso por el gradiente\n",
        "\n",
        "    theta = theta.copy()\n",
        "\n",
        "    J_history = []\n",
        "\n",
        "    for i in range(num_iters):\n",
        "        theta = theta - (alpha / m_pol) * (np.dot(X_pol, theta) - y_poli).dot(X)\n",
        "        J_history.append(computeCostMulti(X_pol, y_poli, theta))\n",
        "\n",
        "    return theta, J_history"
      ],
      "metadata": {
        "id": "4UMhUaVS9A-n"
      },
      "execution_count": 30,
      "outputs": []
    },
    {
      "cell_type": "markdown",
      "source": [
        "#### 2.3.2 Seleccionando coheficientes de aprendizaje\n",
        "\n",
        "Declaramos un valor para **alpha** y un **número de iteraciones** para así calcular las thetas."
      ],
      "metadata": {
        "id": "VhouNcW39cFk"
      }
    },
    {
      "cell_type": "code",
      "source": [
        "# Elegir algun valor para alpha\n",
        "alpha = 0.004\n",
        "num_iters = 3000\n",
        "\n",
        "# inicializa theta y ejecuta el descenso por el gradiente\n",
        "theta = np.zeros(29)\n",
        "theta, J_history = gradientDescentMulti(X_pol, y_poli, theta, alpha, num_iters)\n",
        "\n",
        "# Muestra los resultados del descenso por el gradiente\n",
        "print('Theta calculado por el descenso por gradiente:')\n",
        "for i, val in enumerate(theta, 1):\n",
        "    print(f'Theta {i}: {val:.6f}')"
      ],
      "metadata": {
        "colab": {
          "base_uri": "https://localhost:8080/"
        },
        "id": "QqpJNcvW9gQ7",
        "outputId": "82b53c59-5361-455e-af94-c7bff3f6114a"
      },
      "execution_count": 31,
      "outputs": [
        {
          "output_type": "stream",
          "name": "stdout",
          "text": [
            "Theta calculado por el descenso por gradiente:\n",
            "Theta 1: 26.781202\n",
            "Theta 2: -0.244312\n",
            "Theta 3: -1.654099\n",
            "Theta 4: 0.413482\n",
            "Theta 5: 0.856116\n",
            "Theta 6: -0.017596\n",
            "Theta 7: -0.118775\n",
            "Theta 8: -0.339246\n",
            "Theta 9: 0.222283\n",
            "Theta 10: 0.892029\n",
            "Theta 11: -0.454977\n",
            "Theta 12: 0.964434\n",
            "Theta 13: -0.718566\n",
            "Theta 14: -0.700250\n",
            "Theta 15: 1.566302\n",
            "Theta 16: -0.760491\n",
            "Theta 17: -1.580205\n",
            "Theta 18: 3.581439\n",
            "Theta 19: 2.245103\n",
            "Theta 20: -0.129393\n",
            "Theta 21: 0.063915\n",
            "Theta 22: -0.038470\n",
            "Theta 23: 0.372749\n",
            "Theta 24: -0.043042\n",
            "Theta 25: 1.547649\n",
            "Theta 26: 0.529633\n",
            "Theta 27: 0.398908\n",
            "Theta 28: 0.201433\n",
            "Theta 29: 2.265587\n"
          ]
        }
      ]
    },
    {
      "cell_type": "markdown",
      "source": [
        "#### 2.3.3 Gráfica\n",
        "Graficamos la convergencia del costo."
      ],
      "metadata": {
        "id": "IvhbFvm998Qi"
      }
    },
    {
      "cell_type": "code",
      "source": [
        "pyplot.plot(np.arange(len(J_history)), J_history, lw=2)\n",
        "pyplot.xlabel('Numero de iteraciones')\n",
        "pyplot.ylabel('Costo J')"
      ],
      "metadata": {
        "colab": {
          "base_uri": "https://localhost:8080/",
          "height": 466
        },
        "id": "aCo5Q1Wh9_Lf",
        "outputId": "69345a11-cdb5-4675-9998-c98441836987"
      },
      "execution_count": 32,
      "outputs": [
        {
          "output_type": "execute_result",
          "data": {
            "text/plain": [
              "Text(0, 0.5, 'Costo J')"
            ]
          },
          "metadata": {},
          "execution_count": 32
        },
        {
          "output_type": "display_data",
          "data": {
            "text/plain": [
              "<Figure size 640x480 with 1 Axes>"
            ],
            "image/png": "[encoded data removed]"
          },
          "metadata": {}
        }
      ]
    },
    {
      "cell_type": "markdown",
      "source": [
        "### 2.4 Predicciones\n",
        "Hacemos uso de un diccionario para definir valores mínimos y máximos de las características. De esta forma se obtendrán valores controlados."
      ],
      "metadata": {
        "id": "8bavswefFtgr"
      }
    },
    {
      "cell_type": "code",
      "source": [
        "rango_columnas = {\n",
        "    'XT': (1,1),\n",
        "    'Edad': (30,70),\n",
        "    'Altura': (145, 179),\n",
        "    'Peso': (60, 87),\n",
        "    'Cintura': (50, 100),\n",
        "    'Vista Derecha': (0.1, 4),\n",
        "    'Vista Izquierda': (0.1, 3),\n",
        "    'Sistólica': (95, 151),\n",
        "    'Relajación': (60, 95),\n",
        "    'Azúcar en la sangre': (77.5, 122.5),\n",
        "    'Colesterol': (131.8, 240),\n",
        "    'Triglicérido': (90, 275),\n",
        "    'HDL': (35, 100),\n",
        "    'LDL': (60, 166),\n",
        "    'Hemoglobina': (12.5, 16.9)\n",
        "}"
      ],
      "metadata": {
        "id": "1xIwr-4ZFtTJ"
      },
      "execution_count": 33,
      "outputs": []
    },
    {
      "cell_type": "markdown",
      "source": [
        "Creamos una lista para almacenar cada uno de los valores y realizamos el cálculo de las 100 predicciones."
      ],
      "metadata": {
        "id": "wlaRxKKVuU4h"
      }
    },
    {
      "cell_type": "code",
      "source": [
        "# Crear una lista para almacenar las predicciones\n",
        "predicciones = []\n",
        "\n",
        "Ciclos = 100\n",
        "\n",
        "\n",
        "# Generar 100 predicciones\n",
        "for i in range(Ciclos):\n",
        "    # Crear un array para almacenar los valores aleatorios de cada columna\n",
        "    X_nuevo = []\n",
        "\n",
        "    valores_orginal = []\n",
        "    valores_cuadraticos = []\n",
        "    # Tomamos en cuenta que la primera columna siempre tendrá un valor de 1\n",
        "    X_nuevo.append(1)\n",
        "\n",
        "    # Generar valores aleatorios entre los rangos definidos para las demás columnas\n",
        "    for col in rango_columnas:\n",
        "      if col != 'XT':\n",
        "        min_val = rango_columnas[col][0]\n",
        "        max_val = rango_columnas[col][1]\n",
        "        valor_random = np.random.uniform(min_val, max_val)\n",
        "        X_nuevo.append(valor_random)\n",
        "        valores_orginal.append(valor_random)\n",
        "        valores_cuadraticos.append(valor_random **2)\n",
        "\n",
        "    # Concatenar amos arrays\n",
        "    X_nuevo.extend(valores_cuadraticos)\n",
        "\n",
        "    # Convertir la lista a un array\n",
        "    X_nuevo = np.array(X_nuevo)\n",
        "\n",
        "    # Realizar la predicción\n",
        "    ATS = int(np.dot(X_nuevo, theta))\n",
        "\n",
        "    # Almacenar la predicción\n",
        "    predicciones.append(ATS)\n",
        "\n",
        "# Mostrar las 100 predicciones\n",
        "for i, pred in enumerate(predicciones, 1):\n",
        "    print(f\"Predicción {i}: El valor estimado de ATS es {pred}\")"
      ],
      "metadata": {
        "colab": {
          "base_uri": "https://localhost:8080/"
        },
        "id": "qsF0wKgZHved",
        "outputId": "9db5645f-76ee-48b3-85de-93b26526e660"
      },
      "execution_count": 34,
      "outputs": [
        {
          "output_type": "stream",
          "name": "stdout",
          "text": [
            "Predicción 1: El valor estimado de ATS es 71071\n",
            "Predicción 2: El valor estimado de ATS es 66657\n",
            "Predicción 3: El valor estimado de ATS es 69436\n",
            "Predicción 4: El valor estimado de ATS es 75726\n",
            "Predicción 5: El valor estimado de ATS es 51226\n",
            "Predicción 6: El valor estimado de ATS es 94591\n",
            "Predicción 7: El valor estimado de ATS es 49289\n",
            "Predicción 8: El valor estimado de ATS es 84618\n",
            "Predicción 9: El valor estimado de ATS es 59603\n",
            "Predicción 10: El valor estimado de ATS es 52195\n",
            "Predicción 11: El valor estimado de ATS es 96915\n",
            "Predicción 12: El valor estimado de ATS es 90415\n",
            "Predicción 13: El valor estimado de ATS es 66945\n",
            "Predicción 14: El valor estimado de ATS es 83630\n",
            "Predicción 15: El valor estimado de ATS es 54067\n",
            "Predicción 16: El valor estimado de ATS es 68421\n",
            "Predicción 17: El valor estimado de ATS es 69248\n",
            "Predicción 18: El valor estimado de ATS es 118812\n",
            "Predicción 19: El valor estimado de ATS es 129407\n",
            "Predicción 20: El valor estimado de ATS es 76712\n",
            "Predicción 21: El valor estimado de ATS es 43132\n",
            "Predicción 22: El valor estimado de ATS es 72686\n",
            "Predicción 23: El valor estimado de ATS es 83477\n",
            "Predicción 24: El valor estimado de ATS es 86900\n",
            "Predicción 25: El valor estimado de ATS es 73741\n",
            "Predicción 26: El valor estimado de ATS es 57470\n",
            "Predicción 27: El valor estimado de ATS es 67136\n",
            "Predicción 28: El valor estimado de ATS es 61386\n",
            "Predicción 29: El valor estimado de ATS es 102940\n",
            "Predicción 30: El valor estimado de ATS es 97686\n",
            "Predicción 31: El valor estimado de ATS es 58693\n",
            "Predicción 32: El valor estimado de ATS es 53550\n",
            "Predicción 33: El valor estimado de ATS es 76117\n",
            "Predicción 34: El valor estimado de ATS es 71453\n",
            "Predicción 35: El valor estimado de ATS es 77406\n",
            "Predicción 36: El valor estimado de ATS es 63511\n",
            "Predicción 37: El valor estimado de ATS es 55488\n",
            "Predicción 38: El valor estimado de ATS es 80917\n",
            "Predicción 39: El valor estimado de ATS es 93045\n",
            "Predicción 40: El valor estimado de ATS es 58172\n",
            "Predicción 41: El valor estimado de ATS es 56102\n",
            "Predicción 42: El valor estimado de ATS es 37346\n",
            "Predicción 43: El valor estimado de ATS es 22957\n",
            "Predicción 44: El valor estimado de ATS es 55169\n",
            "Predicción 45: El valor estimado de ATS es 79624\n",
            "Predicción 46: El valor estimado de ATS es 50408\n",
            "Predicción 47: El valor estimado de ATS es 91763\n",
            "Predicción 48: El valor estimado de ATS es 98202\n",
            "Predicción 49: El valor estimado de ATS es 64151\n",
            "Predicción 50: El valor estimado de ATS es 70128\n",
            "Predicción 51: El valor estimado de ATS es 75301\n",
            "Predicción 52: El valor estimado de ATS es 81733\n",
            "Predicción 53: El valor estimado de ATS es 89886\n",
            "Predicción 54: El valor estimado de ATS es 79969\n",
            "Predicción 55: El valor estimado de ATS es 60763\n",
            "Predicción 56: El valor estimado de ATS es 69057\n",
            "Predicción 57: El valor estimado de ATS es 82237\n",
            "Predicción 58: El valor estimado de ATS es 50690\n",
            "Predicción 59: El valor estimado de ATS es 126135\n",
            "Predicción 60: El valor estimado de ATS es 53952\n",
            "Predicción 61: El valor estimado de ATS es 116828\n",
            "Predicción 62: El valor estimado de ATS es 41974\n",
            "Predicción 63: El valor estimado de ATS es 30165\n",
            "Predicción 64: El valor estimado de ATS es 96954\n",
            "Predicción 65: El valor estimado de ATS es 61266\n",
            "Predicción 66: El valor estimado de ATS es 104045\n",
            "Predicción 67: El valor estimado de ATS es 80619\n",
            "Predicción 68: El valor estimado de ATS es 78745\n",
            "Predicción 69: El valor estimado de ATS es 50004\n",
            "Predicción 70: El valor estimado de ATS es 28321\n",
            "Predicción 71: El valor estimado de ATS es 71543\n",
            "Predicción 72: El valor estimado de ATS es 68397\n",
            "Predicción 73: El valor estimado de ATS es 101487\n",
            "Predicción 74: El valor estimado de ATS es 95628\n",
            "Predicción 75: El valor estimado de ATS es 89427\n",
            "Predicción 76: El valor estimado de ATS es 49710\n",
            "Predicción 77: El valor estimado de ATS es 86341\n",
            "Predicción 78: El valor estimado de ATS es 33678\n",
            "Predicción 79: El valor estimado de ATS es 60724\n",
            "Predicción 80: El valor estimado de ATS es 109534\n",
            "Predicción 81: El valor estimado de ATS es 51179\n",
            "Predicción 82: El valor estimado de ATS es 71103\n",
            "Predicción 83: El valor estimado de ATS es 37988\n",
            "Predicción 84: El valor estimado de ATS es 47230\n",
            "Predicción 85: El valor estimado de ATS es 77150\n",
            "Predicción 86: El valor estimado de ATS es 96055\n",
            "Predicción 87: El valor estimado de ATS es 92871\n",
            "Predicción 88: El valor estimado de ATS es 57289\n",
            "Predicción 89: El valor estimado de ATS es 79651\n",
            "Predicción 90: El valor estimado de ATS es 55420\n",
            "Predicción 91: El valor estimado de ATS es 81585\n",
            "Predicción 92: El valor estimado de ATS es 42644\n",
            "Predicción 93: El valor estimado de ATS es 76416\n",
            "Predicción 94: El valor estimado de ATS es 27053\n",
            "Predicción 95: El valor estimado de ATS es 75566\n",
            "Predicción 96: El valor estimado de ATS es 61979\n",
            "Predicción 97: El valor estimado de ATS es 91909\n",
            "Predicción 98: El valor estimado de ATS es 97083\n",
            "Predicción 99: El valor estimado de ATS es 76744\n",
            "Predicción 100: El valor estimado de ATS es 99206\n"
          ]
        }
      ]
    },
    {
      "cell_type": "markdown",
      "metadata": {
        "id": "-nMzqD8elHQ4"
      },
      "source": [
        "# 3 Ecuacion de la Normal\n"
      ]
    },
    {
      "cell_type": "markdown",
      "source": [
        "### 3.1 Cargamos los datos del dataset modificado\n",
        "\n",
        "Cargamos los datos del dataset modificado para asignarles los datos de entrada para ***X_normal*** y el dato de salida para ***y_normal***."
      ],
      "metadata": {
        "id": "Q1nFNiY2s6lt"
      }
    },
    {
      "cell_type": "code",
      "source": [
        "data = pd.read_csv('/content/test_modificado.csv', delimiter=',')\n",
        "df = pd.DataFrame(data)\n",
        "\n",
        "# Asignamos los valores de X y de Y\n",
        "X_normal = data.iloc[:, :14]\n",
        "y_normal = data.iloc[:, 14]\n",
        "\n",
        "# Asignamos una variable para el número total de los datos\n",
        "m_normal = y.size\n",
        "print(m)"
      ],
      "metadata": {
        "colab": {
          "base_uri": "https://localhost:8080/"
        },
        "id": "DR2DVJLLg0Do",
        "outputId": "824b95d3-9221-4b8a-accc-674c6efaa9a4"
      },
      "execution_count": 35,
      "outputs": [
        {
          "output_type": "stream",
          "name": "stdout",
          "text": [
            "16708\n"
          ]
        }
      ]
    },
    {
      "cell_type": "markdown",
      "source": [
        "Añadimos una columna de valores de 1."
      ],
      "metadata": {
        "id": "YK-h3U6EtLpj"
      }
    },
    {
      "cell_type": "code",
      "execution_count": 36,
      "metadata": {
        "id": "Kuyj_V8O8W3L"
      },
      "outputs": [],
      "source": [
        "X_normal = np.concatenate([np.ones((m_normal, 1)), X_normal], axis=1)"
      ]
    },
    {
      "cell_type": "markdown",
      "source": [
        "## 3.2 Aplicación de la función\n",
        "Una manera de calcular rapidamente el modelo de una regresion lineal es:\n",
        "\n",
        "$$ \\theta = \\left( X^T X\\right)^{-1} X^T\\vec{y}$$"
      ],
      "metadata": {
        "id": "sSOYIwm_tQhU"
      }
    },
    {
      "cell_type": "code",
      "execution_count": 37,
      "metadata": {
        "id": "gVZdjjk9lHQ5"
      },
      "outputs": [],
      "source": [
        "def normalEqn(X, y):\n",
        "\n",
        "    theta_normal = np.zeros(X_normal.shape[1])\n",
        "\n",
        "    theta_normal = np.dot(np.dot(np.linalg.inv(np.dot(X_normal.T,X_normal)),X_normal.T),y_normal)\n",
        "\n",
        "    return theta_normal"
      ]
    },
    {
      "cell_type": "markdown",
      "source": [
        "## 3.3 Calculamos los valores de theta"
      ],
      "metadata": {
        "id": "Q7EqHbF3tz0i"
      }
    },
    {
      "cell_type": "code",
      "execution_count": 38,
      "metadata": {
        "id": "Ybyw-FfolHQ5",
        "colab": {
          "base_uri": "https://localhost:8080/"
        },
        "outputId": "ae09dcb6-e89b-47f9-e19c-27be180efff1"
      },
      "outputs": [
        {
          "output_type": "stream",
          "name": "stdout",
          "text": [
            "Theta calculado por la ecuación de la normal:\n",
            "Theta 1: -3.455646\n",
            "Theta 2: -0.087891\n",
            "Theta 3: -0.354786\n",
            "Theta 4: 0.311947\n",
            "Theta 5: 0.335463\n",
            "Theta 6: -0.278517\n",
            "Theta 7: -0.086355\n",
            "Theta 8: -0.032136\n",
            "Theta 9: 0.067598\n",
            "Theta 10: 0.042981\n",
            "Theta 11: 0.014412\n",
            "Theta 12: 0.025069\n",
            "Theta 13: -0.012823\n",
            "Theta 14: -0.004254\n",
            "Theta 15: 2.366245\n"
          ]
        }
      ],
      "source": [
        "# Calcula los parametros con la ecuación de la normal\n",
        "theta_normal = normalEqn(X_normal, y_normal);\n",
        "\n",
        "# Muestra los resultados la ecuación de la normal\n",
        "print('Theta calculado por la ecuación de la normal:')\n",
        "for i, val in enumerate(theta_normal, 1):\n",
        "    print(f'Theta {i}: {val:.6f}')"
      ]
    },
    {
      "cell_type": "markdown",
      "source": [
        "## 3.4 Predicciones\n",
        "Hacemos uso de un diccionario para definir valores mínimos y máximos de las características. De esta forma se obtendrán valores controlados."
      ],
      "metadata": {
        "id": "8H3nMEQbuH4H"
      }
    },
    {
      "cell_type": "code",
      "source": [
        "rango_columnas = {\n",
        "    'XT': (1,1),\n",
        "    'Edad': (30,70),\n",
        "    'Altura': (145, 179),\n",
        "    'Peso': (60, 87),\n",
        "    'Cintura': (50, 100),\n",
        "    'Vista Derecha': (0.1, 4),\n",
        "    'Vista Izquierda': (0.1, 3),\n",
        "    'Sistólica': (95, 151),\n",
        "    'Relajación': (60, 95),\n",
        "    'Azúcar en la sangre': (77.5, 122.5),\n",
        "    'Colesterol': (131.8, 240),\n",
        "    'Triglicérido': (90, 275),\n",
        "    'HDL': (35, 100),\n",
        "    'LDL': (60, 166),\n",
        "    'Hemoglobina': (12.5, 16.9)\n",
        "}"
      ],
      "metadata": {
        "id": "rIo6z-nyjEtj"
      },
      "execution_count": 39,
      "outputs": []
    },
    {
      "cell_type": "markdown",
      "source": [
        "Creamos una lista para almacenar cada uno de los valores y realizamos el cálculo de las 100 predicciones."
      ],
      "metadata": {
        "id": "2Ckdc6dVuYNQ"
      }
    },
    {
      "cell_type": "code",
      "source": [
        "# Crear una lista para almacenar las predicciones\n",
        "predicciones = []\n",
        "\n",
        "Ciclos = 100\n",
        "\n",
        "# Generar 100 predicciones\n",
        "for i in range(Ciclos):\n",
        "    # Crear un array para almacenar los valores aleatorios de cada columna\n",
        "    X_nuevo = []\n",
        "\n",
        "    # Tomamos en cuenta que la primera columna siempre tendrá un valor de 1\n",
        "    X_nuevo.append(1)\n",
        "\n",
        "    # Generar valores aleatorios entre los rangos definidos para las demás columnas\n",
        "    for col in rango_columnas:\n",
        "      if col != 'XT':\n",
        "        min_val = rango_columnas[col][0]\n",
        "        max_val = rango_columnas[col][1]\n",
        "        valor_random = np.random.uniform(min_val, max_val)\n",
        "        X_nuevo.append(valor_random)\n",
        "\n",
        "    # Convertir la lista a un array\n",
        "    X_nuevo = np.array(X_nuevo)\n",
        "\n",
        "    # Realizar la predicción\n",
        "    ATS = int(np.dot(X_nuevo, theta_normal))\n",
        "\n",
        "    # Almacenar la predicción\n",
        "    predicciones.append(ATS)\n",
        "\n",
        "# Mostrar las 100 predicciones\n",
        "for i, pred in enumerate(predicciones, 1):\n",
        "    print(f\"Predicción {i}: El valor estimado de ATS es {pred}\")"
      ],
      "metadata": {
        "colab": {
          "base_uri": "https://localhost:8080/"
        },
        "id": "kDKeg70ejEFB",
        "outputId": "ee66ae0c-8b75-4bb6-aae1-a3375181a49a"
      },
      "execution_count": 40,
      "outputs": [
        {
          "output_type": "stream",
          "name": "stdout",
          "text": [
            "Predicción 1: El valor estimado de ATS es 28\n",
            "Predicción 2: El valor estimado de ATS es 16\n",
            "Predicción 3: El valor estimado de ATS es 39\n",
            "Predicción 4: El valor estimado de ATS es 31\n",
            "Predicción 5: El valor estimado de ATS es 26\n",
            "Predicción 6: El valor estimado de ATS es 34\n",
            "Predicción 7: El valor estimado de ATS es 36\n",
            "Predicción 8: El valor estimado de ATS es 29\n",
            "Predicción 9: El valor estimado de ATS es 38\n",
            "Predicción 10: El valor estimado de ATS es 42\n",
            "Predicción 11: El valor estimado de ATS es 32\n",
            "Predicción 12: El valor estimado de ATS es 16\n",
            "Predicción 13: El valor estimado de ATS es 21\n",
            "Predicción 14: El valor estimado de ATS es 37\n",
            "Predicción 15: El valor estimado de ATS es 32\n",
            "Predicción 16: El valor estimado de ATS es 34\n",
            "Predicción 17: El valor estimado de ATS es 26\n",
            "Predicción 18: El valor estimado de ATS es 25\n",
            "Predicción 19: El valor estimado de ATS es 23\n",
            "Predicción 20: El valor estimado de ATS es 37\n",
            "Predicción 21: El valor estimado de ATS es 26\n",
            "Predicción 22: El valor estimado de ATS es 28\n",
            "Predicción 23: El valor estimado de ATS es 30\n",
            "Predicción 24: El valor estimado de ATS es 37\n",
            "Predicción 25: El valor estimado de ATS es 36\n",
            "Predicción 26: El valor estimado de ATS es 37\n",
            "Predicción 27: El valor estimado de ATS es 40\n",
            "Predicción 28: El valor estimado de ATS es 36\n",
            "Predicción 29: El valor estimado de ATS es 30\n",
            "Predicción 30: El valor estimado de ATS es 14\n",
            "Predicción 31: El valor estimado de ATS es 19\n",
            "Predicción 32: El valor estimado de ATS es 28\n",
            "Predicción 33: El valor estimado de ATS es 29\n",
            "Predicción 34: El valor estimado de ATS es 26\n",
            "Predicción 35: El valor estimado de ATS es 32\n",
            "Predicción 36: El valor estimado de ATS es 38\n",
            "Predicción 37: El valor estimado de ATS es 34\n",
            "Predicción 38: El valor estimado de ATS es 23\n",
            "Predicción 39: El valor estimado de ATS es 35\n",
            "Predicción 40: El valor estimado de ATS es 36\n",
            "Predicción 41: El valor estimado de ATS es 35\n",
            "Predicción 42: El valor estimado de ATS es 23\n",
            "Predicción 43: El valor estimado de ATS es 20\n",
            "Predicción 44: El valor estimado de ATS es 33\n",
            "Predicción 45: El valor estimado de ATS es 28\n",
            "Predicción 46: El valor estimado de ATS es 31\n",
            "Predicción 47: El valor estimado de ATS es 29\n",
            "Predicción 48: El valor estimado de ATS es 22\n",
            "Predicción 49: El valor estimado de ATS es 30\n",
            "Predicción 50: El valor estimado de ATS es 10\n",
            "Predicción 51: El valor estimado de ATS es 18\n",
            "Predicción 52: El valor estimado de ATS es 33\n",
            "Predicción 53: El valor estimado de ATS es 17\n",
            "Predicción 54: El valor estimado de ATS es 24\n",
            "Predicción 55: El valor estimado de ATS es 24\n",
            "Predicción 56: El valor estimado de ATS es 21\n",
            "Predicción 57: El valor estimado de ATS es 30\n",
            "Predicción 58: El valor estimado de ATS es 31\n",
            "Predicción 59: El valor estimado de ATS es 38\n",
            "Predicción 60: El valor estimado de ATS es 22\n",
            "Predicción 61: El valor estimado de ATS es 31\n",
            "Predicción 62: El valor estimado de ATS es 29\n",
            "Predicción 63: El valor estimado de ATS es 28\n",
            "Predicción 64: El valor estimado de ATS es 27\n",
            "Predicción 65: El valor estimado de ATS es 21\n",
            "Predicción 66: El valor estimado de ATS es 26\n",
            "Predicción 67: El valor estimado de ATS es 37\n",
            "Predicción 68: El valor estimado de ATS es 21\n",
            "Predicción 69: El valor estimado de ATS es 35\n",
            "Predicción 70: El valor estimado de ATS es 22\n",
            "Predicción 71: El valor estimado de ATS es 21\n",
            "Predicción 72: El valor estimado de ATS es 36\n",
            "Predicción 73: El valor estimado de ATS es 24\n",
            "Predicción 74: El valor estimado de ATS es 27\n",
            "Predicción 75: El valor estimado de ATS es 33\n",
            "Predicción 76: El valor estimado de ATS es 32\n",
            "Predicción 77: El valor estimado de ATS es 29\n",
            "Predicción 78: El valor estimado de ATS es 20\n",
            "Predicción 79: El valor estimado de ATS es 21\n",
            "Predicción 80: El valor estimado de ATS es 38\n",
            "Predicción 81: El valor estimado de ATS es 27\n",
            "Predicción 82: El valor estimado de ATS es 32\n",
            "Predicción 83: El valor estimado de ATS es 36\n",
            "Predicción 84: El valor estimado de ATS es 26\n",
            "Predicción 85: El valor estimado de ATS es 34\n",
            "Predicción 86: El valor estimado de ATS es 33\n",
            "Predicción 87: El valor estimado de ATS es 27\n",
            "Predicción 88: El valor estimado de ATS es 20\n",
            "Predicción 89: El valor estimado de ATS es 19\n",
            "Predicción 90: El valor estimado de ATS es 28\n",
            "Predicción 91: El valor estimado de ATS es 44\n",
            "Predicción 92: El valor estimado de ATS es 27\n",
            "Predicción 93: El valor estimado de ATS es 21\n",
            "Predicción 94: El valor estimado de ATS es 36\n",
            "Predicción 95: El valor estimado de ATS es 28\n",
            "Predicción 96: El valor estimado de ATS es 22\n",
            "Predicción 97: El valor estimado de ATS es 23\n",
            "Predicción 98: El valor estimado de ATS es 35\n",
            "Predicción 99: El valor estimado de ATS es 42\n",
            "Predicción 100: El valor estimado de ATS es 31\n"
          ]
        }
      ]
    }
  ],
  "metadata": {
    "kernelspec": {
      "display_name": "Python 3",
      "language": "python",
      "name": "python3"
    },
    "language_info": {
      "codemirror_mode": {
        "name": "ipython",
        "version": 3
      },
      "file_extension": ".py",
      "mimetype": "text/x-python",
      "name": "python",
      "nbconvert_exporter": "python",
      "pygments_lexer": "ipython3",
      "version": "3.8.5"
    },
    "colab": {
      "provenance": [],
      "toc_visible": true,
      "include_colab_link": true
    }
  },
  "nbformat": 4,
  "nbformat_minor": 0
}